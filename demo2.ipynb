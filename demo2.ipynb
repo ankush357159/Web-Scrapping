{
 "cells": [
  {
   "cell_type": "code",
   "execution_count": 24,
   "metadata": {},
   "outputs": [
    {
     "name": "stdout",
     "output_type": "stream",
     "text": [
      "Home\n",
      "About Us\n",
      "Why Us\n",
      "Our Products\n",
      "Our Process\n",
      "Contact Us\n"
     ]
    }
   ],
   "source": [
    "from bs4 import BeautifulSoup\n",
    "from urllib.request import Request, urlopen\n",
    "\n",
    "# site= \"http://en.wikipedia.org/wiki/StackOverflow\"\n",
    "site = \"http://www.thedesimilk.com/\"\n",
    "# site = \"https://www.webs.com/themes\"\n",
    "headers = {'User-Agent': 'Mozilla/5.0 (X11; Linux x86_64) ' \n",
    "                        'AppleWebKit/537.11 (KHTML, like Gecko) '\n",
    "                        'Chrome/23.0.1271.64 Safari/537.11',\n",
    "            'Accept': 'text/html,application/xhtml+xml,application/xml;q=0.9,*/*;q=0.8',\n",
    "            'Accept-Charset': 'ISO-8859-1,utf-8;q=0.7,*;q=0.3',\n",
    "            'Accept-Encoding': 'none',\n",
    "            'Accept-Language': 'en-US,en;q=0.8',\n",
    "            'Connection': 'keep-alive'}\n",
    "req = Request(site,headers=headers)\n",
    "page = urlopen(req)\n",
    "soup = BeautifulSoup(page)\n",
    "nameList = soup.findAll('a', {'class': 'nav-link'})\n",
    "for name in nameList:\n",
    "    # print(name.getText())\n",
    "    print(name.text)\n",
    "    # getText() strips all tags inside document and returns the text inside the tag\n"
   ]
  },
  {
   "cell_type": "code",
   "execution_count": null,
   "metadata": {},
   "outputs": [],
   "source": []
  }
 ],
 "metadata": {
  "interpreter": {
   "hash": "237dca41d52b1b6c05020b9b9c4f3f01cc6a966428612495e9e223b5de2fba6f"
  },
  "kernelspec": {
   "display_name": "Python 3.8.10 ('.venv': poetry)",
   "language": "python",
   "name": "python3"
  },
  "language_info": {
   "codemirror_mode": {
    "name": "ipython",
    "version": 3
   },
   "file_extension": ".py",
   "mimetype": "text/x-python",
   "name": "python",
   "nbconvert_exporter": "python",
   "pygments_lexer": "ipython3",
   "version": "3.8.10"
  },
  "orig_nbformat": 4
 },
 "nbformat": 4,
 "nbformat_minor": 2
}
